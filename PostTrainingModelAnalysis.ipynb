{
 "cells": [
  {
   "cell_type": "code",
   "execution_count": null,
   "metadata": {
    "collapsed": true,
    "pycharm": {
     "name": "#%%\n"
    }
   },
   "outputs": [],
   "source": []
  },
  {
   "cell_type": "code",
   "execution_count": null,
   "outputs": [],
   "source": [
    " # Load the best saved model.\n",
    "    with open(args.save, 'rb') as f:\n",
    "        model = torch.load(f)\n",
    "\n",
    "    vtest_acc, vtest_rae, vtest_corr = evaluate(Data, Data.valid[0], Data.valid[1], model, evaluateL2, evaluateL1,\n",
    "                                                args.batch_size, torch)\n",
    "    status = \"{{'name': '{}', 'type': 'final_valid', 'horizon': {:3d}, 'num_nodes':{:3d},'valid_rse': {:.3f}, 'valid_rae': {:.3f}, 'valid_corr': {:.3f}}},\".format(\n",
    "        args.logger_name, args.horizon, args.num_nodes, vtest_acc, vtest_rae, vtest_corr)\n",
    "    logging.info(status)\n",
    "    test_acc, test_rae, test_corr = evaluate(Data, Data.test[0], Data.test[1], model, evaluateL2, evaluateL1,\n",
    "                                             args.batch_size, torch)\n",
    "    status = \"{{'name': '{}', 'type': 'final_valid', 'horizon': {:3d}, 'num_nodes':{:3d}, 'test_rse': {:.3f}, 'test_rae': {:.3f}, 'test_corr': {:.3f} }},\".format(\n",
    "        args.logger_name, args.horizon, args.num_nodes,  test_acc, test_rae, test_corr)\n",
    "    logging.info(status)\n",
    "    print(status)"
   ],
   "metadata": {
    "collapsed": false,
    "pycharm": {
     "name": "#%%\n"
    }
   }
  }
 ],
 "metadata": {
  "kernelspec": {
   "display_name": "Python 3",
   "language": "python",
   "name": "python3"
  },
  "language_info": {
   "codemirror_mode": {
    "name": "ipython",
    "version": 2
   },
   "file_extension": ".py",
   "mimetype": "text/x-python",
   "name": "python",
   "nbconvert_exporter": "python",
   "pygments_lexer": "ipython2",
   "version": "2.7.6"
  }
 },
 "nbformat": 4,
 "nbformat_minor": 0
}